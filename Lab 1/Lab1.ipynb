{
 "cells": [
  {
   "cell_type": "markdown",
   "metadata": {},
   "source": [
    "## Лаба 1"
   ]
  },
  {
   "cell_type": "code",
   "execution_count": 116,
   "metadata": {},
   "outputs": [],
   "source": [
    "import numpy as np\n",
    "import matplotlib.pyplot as plt\n",
    "import math as mth"
   ]
  },
  {
   "cell_type": "markdown",
   "metadata": {},
   "source": [
    "$$ f(x) = sin(x^2) $$"
   ]
  },
  {
   "cell_type": "code",
   "execution_count": 117,
   "metadata": {},
   "outputs": [],
   "source": [
    "def func1(x):\n",
    "    return mth.sin(x * x)"
   ]
  },
  {
   "cell_type": "markdown",
   "metadata": {},
   "source": [
    "$$ f'(x) = 2*x*cos(x^2) $$"
   ]
  },
  {
   "cell_type": "code",
   "execution_count": 118,
   "metadata": {},
   "outputs": [],
   "source": [
    "def func1Diff(x):\n",
    "    return 2 * x * mth.cos(x * x)"
   ]
  },
  {
   "cell_type": "markdown",
   "metadata": {},
   "source": [
    "$$ f(x) = cos(sin(x)) $$"
   ]
  },
  {
   "cell_type": "code",
   "execution_count": 119,
   "metadata": {},
   "outputs": [],
   "source": [
    "def func2(x):\n",
    "    return mth.cos(mth.sin(x))"
   ]
  },
  {
   "cell_type": "markdown",
   "metadata": {},
   "source": [
    "\n",
    "$$ f'(x) = -1*cos(x)*sin(sin(x)) $$"
   ]
  },
  {
   "cell_type": "code",
   "execution_count": 120,
   "metadata": {},
   "outputs": [],
   "source": [
    "def func2Diff(x):\n",
    "    return -1 * mth.cos(x) * mth.sin(mth.sin(x))"
   ]
  },
  {
   "cell_type": "markdown",
   "metadata": {},
   "source": [
    "$$ f(x) = e^{sin(cos(x))} $$"
   ]
  },
  {
   "cell_type": "code",
   "execution_count": 121,
   "metadata": {},
   "outputs": [],
   "source": [
    "def func3(x):\n",
    "    return mth.exp(mth.sin(mth.cos(x)))"
   ]
  },
  {
   "cell_type": "markdown",
   "metadata": {},
   "source": [
    "$$ f'(x) = -1*e^{sin(cos(x))}*sin(x)*cos(cos(x)) $$"
   ]
  },
  {
   "cell_type": "code",
   "execution_count": 122,
   "metadata": {},
   "outputs": [],
   "source": [
    "\n",
    "def func3Diff(x):\n",
    "    return -1 * func3(x) * mth.sin(x) * mth.cos(mth.cos(x))"
   ]
  },
  {
   "cell_type": "markdown",
   "metadata": {},
   "source": [
    "$$ f(x) = ln(x+3) $$"
   ]
  },
  {
   "cell_type": "code",
   "execution_count": 123,
   "metadata": {},
   "outputs": [],
   "source": [
    "def func4(x):\n",
    "    return mth.log(x + 3)"
   ]
  },
  {
   "cell_type": "markdown",
   "metadata": {},
   "source": [
    "\n",
    "$$ f'(x) = \\frac{1}{(x+3)} $$"
   ]
  },
  {
   "cell_type": "code",
   "execution_count": 124,
   "metadata": {},
   "outputs": [],
   "source": [
    "def func4Diff(x):\n",
    "    return 1 / (x + 3)"
   ]
  },
  {
   "cell_type": "markdown",
   "metadata": {},
   "source": [
    "$$ f(x) = \\sqrt{x+3} $$"
   ]
  },
  {
   "cell_type": "code",
   "execution_count": 125,
   "metadata": {},
   "outputs": [],
   "source": [
    "def func5(x): \n",
    "    return mth.sqrt(x + 3)"
   ]
  },
  {
   "cell_type": "markdown",
   "metadata": {},
   "source": [
    "$$ f'(x) = \\frac{1}{2*\\sqrt{x+3}} $$"
   ]
  },
  {
   "cell_type": "code",
   "execution_count": 126,
   "metadata": {},
   "outputs": [],
   "source": [
    "def func5Diff(x):\n",
    "    return 1 / (2 * func5(x))"
   ]
  },
  {
   "cell_type": "markdown",
   "metadata": {},
   "source": [
    "$$ \\frac{f(x+h) - f(x)}{h}$$"
   ]
  },
  {
   "cell_type": "code",
   "execution_count": 127,
   "metadata": {},
   "outputs": [],
   "source": [
    "def diff1(f, x, h) :\n",
    "    return (f(x + h) - f(x)) / h"
   ]
  },
  {
   "cell_type": "markdown",
   "metadata": {},
   "source": [
    "$$ \\frac{f(x) - f(x-h)}{h}$$"
   ]
  },
  {
   "cell_type": "code",
   "execution_count": 128,
   "metadata": {},
   "outputs": [],
   "source": [
    "def diff2(f, x, h) :\n",
    "    return (f(x) - f(x - h)) / h"
   ]
  },
  {
   "cell_type": "markdown",
   "metadata": {},
   "source": [
    "$$ \\frac{f(x+h) - f(x-h)}{2h}$$"
   ]
  },
  {
   "cell_type": "code",
   "execution_count": 129,
   "metadata": {},
   "outputs": [],
   "source": [
    "def diff3(f, x, h) :\n",
    "    return (f(x + h) - f(x - h)) / (2 * h)"
   ]
  },
  {
   "cell_type": "markdown",
   "metadata": {},
   "source": [
    "$$ \\frac{4}{3}\\frac{f(x+h) - f(x-h)}{2h} - \\frac{1}{3}\\frac{f(x+2h) - f(x-2h)}{4h}$$"
   ]
  },
  {
   "cell_type": "code",
   "execution_count": 130,
   "metadata": {},
   "outputs": [],
   "source": [
    "def diff4(f, x, h) :\n",
    "    return (4/3) * ((f(x + h) - f(x - h)) / (2 * h)) \\\n",
    "         - (1/3) * ((f(x + 2 * h) - f(x - 2 * h)) / (4 * h))"
   ]
  },
  {
   "cell_type": "markdown",
   "metadata": {},
   "source": [
    "$$ \\frac{3}{2}\\frac{f(x+h) - f(x-h)}{2h} - \\frac{3}{5}\\frac{f(x+2h) - f(x-2h)}{4h} + \\frac{1}{10}\\frac{f(x+3h) - f(x-3h)}{6h}$$"
   ]
  },
  {
   "cell_type": "code",
   "execution_count": 131,
   "metadata": {},
   "outputs": [],
   "source": [
    "def diff5(f, x, h) :\n",
    "    return (3 / 2) * ((f(x + h) - f(x - h)) / (2 * h)) \\\n",
    "         - (3 / 5) * ((f(x + 2 * h) - f(x - 2 * h)) / (4 * h)) \\\n",
    "         + (1 / 10) * ((f(x + 3 * h) - f(x - 3 * h)) / (6 * h))"
   ]
  },
  {
   "cell_type": "markdown",
   "metadata": {},
   "source": [
    "$$ \\delta = |A_{false} - A_{true}|"
   ]
  },
  {
   "cell_type": "code",
   "execution_count": 132,
   "metadata": {},
   "outputs": [],
   "source": [
    "def absolute_error(diff_false, diff_true):\n",
    "    return abs(diff_false - diff_true)"
   ]
  },
  {
   "cell_type": "code",
   "execution_count": 133,
   "metadata": {},
   "outputs": [
    {
     "data": {
      "image/png": "[encoded data removed]",
      "text/plain": [
       "<Figure size 640x480 with 5 Axes>"
      ]
     },
     "metadata": {},
     "output_type": "display_data"
    }
   ],
   "source": [
    "n = [i for i in range (0, 21)]\n",
    "h = [2/(2 ** i) for i in range(0, 21)]\n",
    "\n",
    "# List with any function\n",
    "DiffFunc = [diff1, diff2, diff3, diff4, diff5]\n",
    "Function  = [func1, func2, func3, func4, func5]\n",
    "DiffFunction = [func1Diff, func2Diff, func3Diff, func4Diff, func5Diff]\n",
    "\n",
    "# The point at which we differentiate\n",
    "num = 10\n",
    "\n",
    "#Number function\n",
    "number = 0\n",
    "\n",
    "# Set plot\n",
    "fig, axs = plt.subplots(5)\n",
    "\n",
    "# Title\n",
    "fig.suptitle('Function number 1')\n",
    "\n",
    "for i in range(len(DiffFunc)):\n",
    "    methods = DiffFunc[i]\n",
    "    functionDiff = DiffFunction[number]\n",
    "    PlotFunc = [absolute_error(methods(Function[number], num, h[i]), functionDiff(num)) for i in range (len(h))]\n",
    "    # Make plot\n",
    "    axs[i].plot(n, PlotFunc)\n",
    "    # Add gridlines to the plot\n",
    "    axs[i].grid(visible = True)\n",
    "\n",
    "    axs[i].set(xlabel='n-parametr', ylabel='Method ' + str(i), )\n",
    "# Save plot\n",
    "plt.savefig('Function' + str(number  + 1) + '.jpg', dpi = 500)\n",
    "\n",
    "# Show plot\n",
    "plt.show()\n"
   ]
  }
 ],
 "metadata": {
  "kernelspec": {
   "display_name": "Python 3",
   "language": "python",
   "name": "python3"
  },
  "language_info": {
   "codemirror_mode": {
    "name": "ipython",
    "version": 3
   },
   "file_extension": ".py",
   "mimetype": "text/x-python",
   "name": "python",
   "nbconvert_exporter": "python",
   "pygments_lexer": "ipython3",
   "version": "3.10.12"
  },
  "orig_nbformat": 4
 },
 "nbformat": 4,
 "nbformat_minor": 2
}
