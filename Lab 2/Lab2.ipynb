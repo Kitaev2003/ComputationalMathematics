{
 "cells": [
  {
   "cell_type": "markdown",
   "metadata": {},
   "source": [
    "## Лабораторная работа №2"
   ]
  },
  {
   "cell_type": "code",
   "execution_count": null,
   "metadata": {},
   "outputs": [],
   "source": [
    "import scipy\n",
    "import matplotlib.pyplot as plot\n",
    "import numpy as np\n",
    "import math as mth"
   ]
  },
  {
   "cell_type": "markdown",
   "metadata": {},
   "source": [
    "### Метод Якоби"
   ]
  },
  {
   "cell_type": "code",
   "execution_count": null,
   "metadata": {},
   "outputs": [],
   "source": [
    "def gacobi(A, b, N=40, x=None):                                                                                                                                                         \n",
    "    if x is None:\n",
    "        x = np.zeros(len(A[0]))\n",
    "\n",
    "    data = np.zeros(N)                                                                                                                                                                    \n",
    "    D = np.diag(A)\n",
    "    T = A - np.diagflat(D)\n",
    "                                                                                                                                                                          \n",
    "    for i in range(N):\n",
    "        x = (b - np.dot(T,x)) / D   \n",
    "        diff = b - np.matmul(A, x)\n",
    "        data[i] = norm(diff)  \n",
    "\n",
    "    return x, data"
   ]
  },
  {
   "cell_type": "markdown",
   "metadata": {},
   "source": [
    "### Метод Гаусса-Зейделя"
   ]
  },
  {
   "cell_type": "code",
   "execution_count": null,
   "metadata": {},
   "outputs": [],
   "source": [
    "\n",
    "def gaussSeidel(A, b, N=25, x=None):\n",
    "    \n",
    "    if x is None:\n",
    "        x = np.zeros(len(A[0]))\n",
    "\n",
    "    data = np.zeros(N)\n",
    "\n",
    "    L = np.tril(A)\n",
    "    U = A - L\n",
    "    for i in range(N):\n",
    "        x = np.dot(np.linalg.inv(L), b - np.dot(U, x))\n",
    "        diff = b - np.matmul(A, x)\n",
    "        data[i] = norm(diff)\n",
    "\n",
    "    return x, data"
   ]
  },
  {
   "cell_type": "markdown",
   "metadata": {},
   "source": [
    "### Метод верхней релаксации"
   ]
  },
  {
   "cell_type": "code",
   "execution_count": null,
   "metadata": {},
   "outputs": [],
   "source": [
    "def upperRelaxation(A, b, w, N=20, x=None):\n",
    "    \n",
    "    if x is None:\n",
    "        x = np.zeros(len(A[0]))\n",
    "\n",
    "    data = np.zeros(N)\n",
    "\n",
    "    u = np.triu(A)\n",
    "    l = np.tril(A)\n",
    "    L = A - u\n",
    "    D = l + u - A\n",
    "    U = A - l\n",
    "\n",
    "    B = - np.matmul(np.linalg.inv(D + w * L), (w - 1) * D + w * U)\n",
    "    F =   np.matmul(np.linalg.inv(D + w * L), b) * w\n",
    "\n",
    "    for i in range(N):\n",
    "        x = np.matmul(B, x) + F\n",
    "        diff = b - np.matmul(A, x)\n",
    "        data[i] = norm(diff)\n",
    "\n",
    "    return x, data"
   ]
  },
  {
   "cell_type": "markdown",
   "metadata": {},
   "source": [
    "### Метод Гаусса"
   ]
  },
  {
   "cell_type": "code",
   "execution_count": null,
   "metadata": {},
   "outputs": [],
   "source": [
    "def gauss(A,b):\n",
    "    n = len(A)\n",
    "    M = A\n",
    "\n",
    "    M = np.hstack((M,np.array([b]).T))\n",
    "\n",
    "    for i in range(n):\n",
    "\n",
    "        leading = i + np.argmax(np.abs(A[:,i][i:]))\n",
    "        M[[i, leading]] = M[[leading, i]] \n",
    "\n",
    "        M[i] /= M[i][i]\n",
    "        row = M[i]\n",
    "\n",
    "        for r in M[i + 1:]:\n",
    "            r -= r[i] * row\n",
    "\n",
    "    for i in range(n - 1, 0, -1):\n",
    "        row = M[i]\n",
    "        for r in reversed(M[:i]):\n",
    "            r -= r[i] * row\n",
    "\n",
    "    return M[:,-1]"
   ]
  },
  {
   "cell_type": "markdown",
   "metadata": {},
   "source": [
    "### LU - разложение"
   ]
  },
  {
   "cell_type": "code",
   "execution_count": null,
   "metadata": {},
   "outputs": [],
   "source": [
    "def LUmethod(A, f):\n",
    "    P, L, U = scipy.linalg.lu(A)\n",
    "    y = gauss(L, f)\n",
    "    x = gauss(U, y)\n",
    "    return x"
   ]
  },
  {
   "cell_type": "markdown",
   "metadata": {},
   "source": [
    "### Вспомогательные функции"
   ]
  },
  {
   "cell_type": "code",
   "execution_count": null,
   "metadata": {},
   "outputs": [],
   "source": [
    "def norm(vec):\n",
    "  return np.max(np.abs(vec))\n",
    "\n",
    "def matrixElem(i: int, j: int):\n",
    "  if i == 99:\n",
    "    return 1\n",
    "  else:\n",
    "    if i == j:\n",
    "      return 10\n",
    "    elif i == (j + 1) or j == (i + 1):\n",
    "      return 1\n",
    "    else: \n",
    "      return 0\n",
    "\n",
    "def getLDU(matrix):\n",
    "  u = np.triu(matrix)\n",
    "  l = np.tril(matrix)\n",
    "\n",
    "  lower = matrix - u\n",
    "  diagonal = l + u - matrix\n",
    "  upper = matrix - l\n",
    "\n",
    "  return lower, diagonal, upper\n",
    "\n",
    "\n",
    "def getMatrix():\n",
    "  return np.fromfunction(np.vectorize(matrixElem), (100, 100), dtype=np.double)\n",
    "\n",
    "def bElem(i: int):\n",
    "  return (i + 1)\n",
    "\n",
    "def getB():\n",
    "  return np.fromfunction(np.vectorize(bElem), (100,), dtype = np.double)\n",
    "\n",
    "def makePlot(title, data):\n",
    "    plot.figure(figsize=(15, 15))\n",
    "\n",
    "    plot.xlabel(\"iteration number\")\n",
    "    plot.ylabel(\"log(abs_accurancy)\")\n",
    "    plot.yscale(\"log\")\n",
    "\n",
    "    plot.title(title)\n",
    "    iterations = [i for i in range(len(data))]\n",
    "    plot.plot(iterations, data, \".-\")\n",
    "    plot.show()\n",
    "\n",
    "def plot_few(title, names, datas):\n",
    "    plot.figure(figsize=(15, 15))\n",
    "\n",
    "    plot.xlabel(\"iteration number\")    \n",
    "    plot.ylabel(\"log(abs_accurancy)\")\n",
    "    plot.yscale(\"log\")\n",
    "\n",
    "    plot.title(title)\n",
    "    for ind in range(len(datas)):\n",
    "        iterations = [i for i in range(len(datas[ind]))]\n",
    "        plot.plot(iterations, datas[ind], \".-\", label=names[ind])\n",
    "        plot.legend()\n",
    "    plot.show()"
   ]
  },
  {
   "cell_type": "markdown",
   "metadata": {},
   "source": [
    "### Значения и расчеты "
   ]
  },
  {
   "cell_type": "code",
   "execution_count": null,
   "metadata": {},
   "outputs": [],
   "source": [
    "eps = 1e-6\n",
    "\n",
    "mat = getMatrix()\n",
    "b = getB()\n",
    "\n",
    "x = gauss(mat, b)\n",
    "x = LUmethod(mat, b)\n",
    "\n",
    "A = np.array([[4.0,-1.0,1.0],[2.0,5.0,2.0],[1.0,2.0,4.0]])\n",
    "b = np.array([8.0,3.0,11.0])\n",
    "\n",
    "x, data = gacobi(A, b)\n",
    "plot(\"gacobi\", data)\n",
    "\n",
    "x, data = gaussSeidel(A, b)\n",
    "makePlot(\"gauss\", data)\n",
    "\n",
    "data_for_relaxation = []\n",
    "names = []\n",
    "for w in np.arange(1., 2.2, 0.2):\n",
    "    w = mth.ceil(w * 10) / 10\n",
    "    x, data = upperRelaxation(A, b, w)\n",
    "    data_for_relaxation.append(data)\n",
    "    names.append(\"w=\" + str(w))\n",
    "\n",
    "plotFew(\"upperRelaxation\", names, data_for_relaxation)"
   ]
  }
 ],
 "metadata": {
  "language_info": {
   "name": "python"
  }
 },
 "nbformat": 4,
 "nbformat_minor": 2
}
